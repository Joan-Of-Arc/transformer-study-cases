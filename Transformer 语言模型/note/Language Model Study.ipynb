{
 "cells": [
  {
   "cell_type": "code",
   "execution_count": 2,
   "id": "fd9bd068-8a9f-4343-97f4-be4f71b8ec81",
   "metadata": {},
   "outputs": [],
   "source": [
    "import torch"
   ]
  },
  {
   "cell_type": "markdown",
   "id": "a79431de-1dfa-47cf-9dcc-86d7577f4257",
   "metadata": {},
   "source": [
    "> 语言模型：\n",
    "> - 以一个符合语言规律的序列作为输入，模型将利用序列间关系等特征，输出一个在所有词汇上的概率分布。这样的模型称为语言模型。"
   ]
  },
  {
   "cell_type": "markdown",
   "id": "0a53b574-6918-433e-a07a-8fc568338e52",
   "metadata": {},
   "source": [
    "> 语言模型能解决哪些问题：\n",
    "> 1. 根据语言模型的定义，可以在它的基础上完成机器翻译，文本生成等任务，因为我们通过最后输出的概率分布来预测下一个词汇是什么。\n",
    "> 2. 语言模型可以判断输入的序列是否为一句完整的话，因为我们可以根据输出的概率分布查看最大概率是否落在句子结束符上，来判断完整性。\n",
    "> 3. 语言模型本身的寻来你目标是预测下一个词，因为它的特征提取部分会抽象很多语言序列之间的关系，这些关系可能同样对其他语言类任务有效果，因此可以作为预训练模型进行迁移学习。"
   ]
  },
  {
   "cell_type": "markdown",
   "id": "f7cbdebb-99c2-44b5-8147-d007ce2c4956",
   "metadata": {},
   "source": [
    "## 相关工具包"
   ]
  },
  {
   "cell_type": "code",
   "execution_count": 7,
   "id": "cbfe6d2b-f64c-4305-85fa-fcd33e23f763",
   "metadata": {},
   "outputs": [],
   "source": [
    "# 数学工具包\n",
    "import math\n",
    "\n",
    "# torch相关包\n",
    "import torch\n",
    "import torch.nn as nn\n",
    "import torch.nn.functional as F\n",
    "\n",
    "# 经典文本数据集的工具包\n",
    "import torchtext\n",
    "\n",
    "# 导入英文分词的工具\n",
    "from torchtext.data.utils import get_tokenizer\n",
    "\n",
    "# 导入已经构建完成的Transformer包\n",
    "from pyitcast.transformer import TransformerModel"
   ]
  },
  {
   "cell_type": "markdown",
   "id": "abdfb7fc-31ac-42e0-b3e8-ad8ff3cce4a2",
   "metadata": {},
   "source": [
    "## 导入 wikiText-2 数据集并作基本处理"
   ]
  },
  {
   "cell_type": "markdown",
   "id": "af7bca56-40e4-4e00-ba8a-b63aa388a82b",
   "metadata": {
    "jp-MarkdownHeadingCollapsed": true,
    "tags": []
   },
   "source": [
    "- 创建语料域，语料域是存放语料的数据结构\n",
    "- 它的 4 个参数代表给存放语料（或称作文本） 施加的作用\n",
    "- 分别为：\n",
    "  - tokenize：使用get_tokenizer(\"basic_english\") 获得一个分割器对象，分割方式按照文本为基础英文进行分割。\n",
    "  - init_token：给文本施加的起始符 \"\\<sos\\>\"\n",
    "  - eos_token： 给文本施加的终止符 \"\\<eos\\>\"\n",
    "  - lower： 存放的文本是否为小写"
   ]
  },
  {
   "cell_type": "code",
   "execution_count": null,
   "id": "b1c739a1-fd2d-432f-9e5e-4c671099f49b",
   "metadata": {},
   "outputs": [],
   "source": []
  },
  {
   "cell_type": "code",
   "execution_count": null,
   "id": "31537d13-e972-4afa-a80f-368803df6a82",
   "metadata": {},
   "outputs": [],
   "source": []
  },
  {
   "cell_type": "code",
   "execution_count": null,
   "id": "8bd2bf4e-55ef-4e31-ad9f-97953195eb41",
   "metadata": {},
   "outputs": [],
   "source": []
  },
  {
   "cell_type": "code",
   "execution_count": null,
   "id": "848e1451-624e-497e-9973-48b17878d607",
   "metadata": {},
   "outputs": [],
   "source": []
  },
  {
   "cell_type": "code",
   "execution_count": null,
   "id": "8cb895a9-4072-4ddc-8414-61648e860893",
   "metadata": {},
   "outputs": [],
   "source": []
  },
  {
   "cell_type": "code",
   "execution_count": null,
   "id": "6f75ab20-04e3-4145-9f3d-83520486bcd9",
   "metadata": {},
   "outputs": [],
   "source": []
  },
  {
   "cell_type": "code",
   "execution_count": null,
   "id": "adc095d5-62b0-4b81-be7f-e08e5094c4da",
   "metadata": {},
   "outputs": [],
   "source": []
  },
  {
   "cell_type": "code",
   "execution_count": null,
   "id": "1c5523da-6e6c-46c9-aa76-0075979c801d",
   "metadata": {},
   "outputs": [],
   "source": []
  },
  {
   "cell_type": "code",
   "execution_count": null,
   "id": "7e78fe85-3d16-4876-b4bf-12bd63ee028b",
   "metadata": {},
   "outputs": [],
   "source": []
  },
  {
   "cell_type": "code",
   "execution_count": null,
   "id": "7640ec39-2a8c-4db3-a6ee-b776a7029c2c",
   "metadata": {},
   "outputs": [],
   "source": []
  },
  {
   "cell_type": "code",
   "execution_count": null,
   "id": "bbe93329-a551-48f9-98ea-aa6a823b4b0d",
   "metadata": {},
   "outputs": [],
   "source": []
  },
  {
   "cell_type": "code",
   "execution_count": null,
   "id": "f88c0344-5da5-42d6-91f8-eb47d14928c9",
   "metadata": {},
   "outputs": [],
   "source": []
  },
  {
   "cell_type": "code",
   "execution_count": null,
   "id": "a5fe1cd4-ee93-4679-be1c-4e6907b0e23c",
   "metadata": {},
   "outputs": [],
   "source": []
  },
  {
   "cell_type": "code",
   "execution_count": null,
   "id": "b02b6a8d-6159-4dab-b12e-5d27e0bf4ce5",
   "metadata": {},
   "outputs": [],
   "source": []
  },
  {
   "cell_type": "code",
   "execution_count": null,
   "id": "c875eb5e-2478-46bf-a1d5-fe2c3209a82b",
   "metadata": {},
   "outputs": [],
   "source": []
  },
  {
   "cell_type": "code",
   "execution_count": null,
   "id": "047f9c7e-db3c-49a1-92ae-29962ec125e9",
   "metadata": {},
   "outputs": [],
   "source": []
  },
  {
   "cell_type": "code",
   "execution_count": null,
   "id": "4ba24c99-164a-4253-8b9c-eb828e34a739",
   "metadata": {},
   "outputs": [],
   "source": []
  },
  {
   "cell_type": "code",
   "execution_count": null,
   "id": "5ac209a9-0638-41c0-8241-6c1a8354d8e6",
   "metadata": {},
   "outputs": [],
   "source": []
  },
  {
   "cell_type": "code",
   "execution_count": null,
   "id": "a9d2ddd8-fa78-4208-becb-fd9d4344172f",
   "metadata": {},
   "outputs": [],
   "source": []
  },
  {
   "cell_type": "code",
   "execution_count": null,
   "id": "8c2e1883-3eb0-4664-852c-62745034372d",
   "metadata": {},
   "outputs": [],
   "source": []
  },
  {
   "cell_type": "code",
   "execution_count": null,
   "id": "fe6a51a1-3a38-4f79-850d-694b694f16ed",
   "metadata": {},
   "outputs": [],
   "source": []
  },
  {
   "cell_type": "code",
   "execution_count": null,
   "id": "17e9327c-3f6d-4b95-a0f4-1898428d27c2",
   "metadata": {},
   "outputs": [],
   "source": []
  },
  {
   "cell_type": "code",
   "execution_count": null,
   "id": "5c509bab-88e1-4429-a2f0-8c3dbaae047e",
   "metadata": {},
   "outputs": [],
   "source": []
  },
  {
   "cell_type": "code",
   "execution_count": null,
   "id": "07bde851-fa5d-40a0-b227-17ff6aa8ffc9",
   "metadata": {},
   "outputs": [],
   "source": []
  },
  {
   "cell_type": "code",
   "execution_count": null,
   "id": "fa041be8-6948-4ce6-ab20-b37d0cff2069",
   "metadata": {},
   "outputs": [],
   "source": []
  },
  {
   "cell_type": "code",
   "execution_count": null,
   "id": "45a85537-b5a6-453f-a5a2-6d1a47ab3b9f",
   "metadata": {},
   "outputs": [],
   "source": []
  },
  {
   "cell_type": "code",
   "execution_count": null,
   "id": "2024f9fb-489e-4274-8993-979d8b52d1ee",
   "metadata": {},
   "outputs": [],
   "source": []
  },
  {
   "cell_type": "code",
   "execution_count": null,
   "id": "d15c270c-5a2f-425b-bcea-360b5df2ff3b",
   "metadata": {},
   "outputs": [],
   "source": []
  },
  {
   "cell_type": "code",
   "execution_count": null,
   "id": "5e998238-7db0-46c9-9792-24ea3c4a9d56",
   "metadata": {},
   "outputs": [],
   "source": []
  },
  {
   "cell_type": "code",
   "execution_count": null,
   "id": "317b78e9-1557-464f-bfb7-a2afc20e0812",
   "metadata": {},
   "outputs": [],
   "source": []
  }
 ],
 "metadata": {
  "kernelspec": {
   "display_name": "torch",
   "language": "python",
   "name": "torch_kernel"
  },
  "language_info": {
   "codemirror_mode": {
    "name": "ipython",
    "version": 3
   },
   "file_extension": ".py",
   "mimetype": "text/x-python",
   "name": "python",
   "nbconvert_exporter": "python",
   "pygments_lexer": "ipython3",
   "version": "3.9.7"
  }
 },
 "nbformat": 4,
 "nbformat_minor": 5
}
